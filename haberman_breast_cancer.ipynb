{
 "cells": [
  {
   "cell_type": "code",
   "execution_count": 24,
   "metadata": {},
   "outputs": [],
   "source": [
    "import pandas as pd\n",
    "import numpy as np\n",
    "import matplotlib.pyplot as plt\n",
    "from collections import Counter\n",
    "%matplotlib inline\n",
    "plt.style.use('ggplot')"
   ]
  },
  {
   "cell_type": "code",
   "execution_count": 4,
   "metadata": {},
   "outputs": [
    {
     "name": "stdout",
     "output_type": "stream",
     "text": [
      "--2020-09-09 03:04:25--  https://raw.githubusercontent.com/Daihongchen/Datasets/master/haberman.csv\n",
      "Resolving raw.githubusercontent.com... 151.101.52.133\n",
      "Connecting to raw.githubusercontent.com|151.101.52.133|:443... connected.\n",
      "HTTP request sent, awaiting response... 200 OK\n",
      "Length: 3103 (3.0K) [text/plain]\n",
      "Saving to: 'haberman.csv'\n",
      "\n",
      "haberman.csv        100%[===================>]   3.03K  --.-KB/s    in 0s      \n",
      "\n",
      "2020-09-09 03:04:25 (31.5 MB/s) - 'haberman.csv' saved [3103/3103]\n",
      "\n"
     ]
    }
   ],
   "source": [
    "!wget https://raw.githubusercontent.com/Daihongchen/Datasets/master/haberman.csv"
   ]
  },
  {
   "cell_type": "code",
   "execution_count": 11,
   "metadata": {},
   "outputs": [],
   "source": [
    "filename = 'haberman.csv'\n",
    "columns = ['age', 'year', 'nodes', 'class']\n",
    "df = pd.read_csv(filename, header=None, names=columns)"
   ]
  },
  {
   "cell_type": "code",
   "execution_count": 12,
   "metadata": {},
   "outputs": [
    {
     "data": {
      "text/html": [
       "<div>\n",
       "<style scoped>\n",
       "    .dataframe tbody tr th:only-of-type {\n",
       "        vertical-align: middle;\n",
       "    }\n",
       "\n",
       "    .dataframe tbody tr th {\n",
       "        vertical-align: top;\n",
       "    }\n",
       "\n",
       "    .dataframe thead th {\n",
       "        text-align: right;\n",
       "    }\n",
       "</style>\n",
       "<table border=\"1\" class=\"dataframe\">\n",
       "  <thead>\n",
       "    <tr style=\"text-align: right;\">\n",
       "      <th></th>\n",
       "      <th>age</th>\n",
       "      <th>year</th>\n",
       "      <th>nodes</th>\n",
       "      <th>class</th>\n",
       "    </tr>\n",
       "  </thead>\n",
       "  <tbody>\n",
       "    <tr>\n",
       "      <th>0</th>\n",
       "      <td>30</td>\n",
       "      <td>64</td>\n",
       "      <td>1</td>\n",
       "      <td>1</td>\n",
       "    </tr>\n",
       "    <tr>\n",
       "      <th>1</th>\n",
       "      <td>30</td>\n",
       "      <td>62</td>\n",
       "      <td>3</td>\n",
       "      <td>1</td>\n",
       "    </tr>\n",
       "    <tr>\n",
       "      <th>2</th>\n",
       "      <td>30</td>\n",
       "      <td>65</td>\n",
       "      <td>0</td>\n",
       "      <td>1</td>\n",
       "    </tr>\n",
       "    <tr>\n",
       "      <th>3</th>\n",
       "      <td>31</td>\n",
       "      <td>59</td>\n",
       "      <td>2</td>\n",
       "      <td>1</td>\n",
       "    </tr>\n",
       "    <tr>\n",
       "      <th>4</th>\n",
       "      <td>31</td>\n",
       "      <td>65</td>\n",
       "      <td>4</td>\n",
       "      <td>1</td>\n",
       "    </tr>\n",
       "  </tbody>\n",
       "</table>\n",
       "</div>"
      ],
      "text/plain": [
       "   age  year  nodes  class\n",
       "0   30    64      1      1\n",
       "1   30    62      3      1\n",
       "2   30    65      0      1\n",
       "3   31    59      2      1\n",
       "4   31    65      4      1"
      ]
     },
     "execution_count": 12,
     "metadata": {},
     "output_type": "execute_result"
    }
   ],
   "source": [
    "df.head()"
   ]
  },
  {
   "cell_type": "code",
   "execution_count": 13,
   "metadata": {},
   "outputs": [
    {
     "name": "stdout",
     "output_type": "stream",
     "text": [
      "              age        year       nodes       class\n",
      "count  306.000000  306.000000  306.000000  306.000000\n",
      "mean    52.457516   62.852941    4.026144    1.264706\n",
      "std     10.803452    3.249405    7.189654    0.441899\n",
      "min     30.000000   58.000000    0.000000    1.000000\n",
      "25%     44.000000   60.000000    0.000000    1.000000\n",
      "50%     52.000000   63.000000    1.000000    1.000000\n",
      "75%     60.750000   65.750000    4.000000    2.000000\n",
      "max     83.000000   69.000000   52.000000    2.000000\n"
     ]
    }
   ],
   "source": [
    "report = df.describe()\n",
    "print(report)"
   ]
  },
  {
   "cell_type": "code",
   "execution_count": 23,
   "metadata": {},
   "outputs": [
    {
     "name": "stdout",
     "output_type": "stream",
     "text": [
      "1    225\n",
      "2     81\n",
      "Name: class, dtype: int64\n",
      "1    0.735294\n",
      "2    0.264706\n",
      "Name: class, dtype: float64\n"
     ]
    }
   ],
   "source": [
    "print(df['class'].value_counts())\n",
    "print(df['class'].value_counts(normalize=True))"
   ]
  },
  {
   "cell_type": "code",
   "execution_count": 21,
   "metadata": {},
   "outputs": [
    {
     "data": {
      "text/plain": [
       "array([[<matplotlib.axes._subplots.AxesSubplot object at 0x1178317b8>,\n",
       "        <matplotlib.axes._subplots.AxesSubplot object at 0x118288e10>],\n",
       "       [<matplotlib.axes._subplots.AxesSubplot object at 0x1182de400>,\n",
       "        <matplotlib.axes._subplots.AxesSubplot object at 0x1183ad9b0>]],\n",
       "      dtype=object)"
      ]
     },
     "execution_count": 21,
     "metadata": {},
     "output_type": "execute_result"
    },
    {
     "data": {
      "image/png": "[encoded data removed]",
      "text/plain": [
       "<Figure size 432x288 with 4 Axes>"
      ]
     },
     "metadata": {},
     "output_type": "display_data"
    }
   ],
   "source": [
    "df.hist()"
   ]
  },
  {
   "cell_type": "code",
   "execution_count": 28,
   "metadata": {},
   "outputs": [
    {
     "name": "stdout",
     "output_type": "stream",
     "text": [
      "Class=1, Count=225, Percentage=73.529%\n",
      "Class=2, Count=81, Percentage=26.471%\n"
     ]
    }
   ],
   "source": [
    "counter = Counter(df['class'].values)\n",
    "for k, v in counter.items():\n",
    "    per = v / len(df['class']) * 100\n",
    "    print('Class=%d, Count=%d, Percentage=%.3f%%' % (k, v, per))\n",
    "#     print('Class=%d, Count=%d, Percentage=%.3f%%' % (k, v, per))"
   ]
  },
  {
   "cell_type": "markdown",
   "metadata": {},
   "source": [
    "## Model Test and Baseline Result"
   ]
  },
  {
   "cell_type": "code",
   "execution_count": 40,
   "metadata": {},
   "outputs": [],
   "source": [
    "from collections import Counter\n",
    "from numpy import mean\n",
    "from numpy import std\n",
    "from sklearn.preprocessing import LabelEncoder\n",
    "from sklearn.model_selection import cross_val_score\n",
    "from sklearn.model_selection import RepeatedStratifiedKFold\n",
    "from sklearn.metrics import brier_score_loss\n",
    "from sklearn.metrics import make_scorer\n",
    "from sklearn.dummy import DummyClassifier"
   ]
  },
  {
   "cell_type": "code",
   "execution_count": 41,
   "metadata": {},
   "outputs": [],
   "source": [
    "X, y = df.iloc[:, :-1], df.iloc[:, -1]"
   ]
  },
  {
   "cell_type": "code",
   "execution_count": 42,
   "metadata": {},
   "outputs": [],
   "source": [
    "y = LabelEncoder().fit_transform(y)"
   ]
  },
  {
   "cell_type": "code",
   "execution_count": 59,
   "metadata": {},
   "outputs": [],
   "source": [
    "# load the data\n",
    "def load_dataset(full_path):\n",
    "    data = pd.read_csv(full_path, header=None)\n",
    "    data = data.values\n",
    "    X, y = data[:, :-1], data[:, -1]\n",
    "    y = LabelEncoder().fit_transform(y)\n",
    "    return X, y\n",
    "    \n",
    "\n",
    "\n",
    "def brier_skill_score(y_true, y_prob):\n",
    "    ref_probs = [0.26471 for _ in range(len(y_true))]\n",
    "    bs_ref = brier_score_loss(y_true, ref_probs)\n",
    "    bs_model = brier_score_loss(y_true, y_prob)\n",
    "    \n",
    "    return 1.0 - (bs_model / bs_ref)\n",
    "\n",
    "def evaluate_model(X, y, model):\n",
    "    # define evaluation procedure\n",
    "    cv = RepeatedStratifiedKFold(n_splits=10, n_repeats=3, random_state=1)\n",
    "    # define model evaluation metrics\n",
    "    metric = make_scorer(brier_skill_score, needs_proba=True)\n",
    "    # evaluate model\n",
    "    scores = cross_val_score(model, X, y, scoring=metric, cv=cv, n_jobs=-1)\n",
    "    return scores"
   ]
  },
  {
   "cell_type": "code",
   "execution_count": 62,
   "metadata": {},
   "outputs": [
    {
     "name": "stdout",
     "output_type": "stream",
     "text": [
      "(306, 3) (306,) Counter({0: 225, 1: 81})\n",
      "Mean BSS: -0.00010483367619751327, 0.00021871154420730708\n"
     ]
    }
   ],
   "source": [
    "full_path = 'haberman.csv'\n",
    "X, y = load_dataset(full_path)\n",
    "print(X.shape, y.shape, Counter(y))\n",
    "\n",
    "model = DummyClassifier(strategy='prior')\n",
    "\n",
    "scores = evaluate_model(X, y, model)\n",
    "\n",
    "print(f'Mean BSS: {mean(scores)}, {std(scores)}')"
   ]
  },
  {
   "cell_type": "markdown",
   "metadata": {},
   "source": [
    "# Evaluate Probability Alhorithm\n",
    "\n",
    "Logistic Regression(LR)\n",
    "\n",
    "Linear Discriminant Analysis(LDA)\n",
    "\n",
    "Quadratic Discriminant Analysis(QDA)\n",
    "\n",
    "Gaussian Naive Bayes(GNB)\n",
    "\n",
    "Multinomial Naive Bayes(MNB)\n",
    "\n",
    "Gaussian Process(GPC)"
   ]
  },
  {
   "cell_type": "code",
   "execution_count": 63,
   "metadata": {},
   "outputs": [],
   "source": [
    "from sklearn.linear_model import LogisticRegression\n",
    "from sklearn.discriminant_analysis import LinearDiscriminantAnalysis\n",
    "from sklearn.discriminant_analysis import QuadraticDiscriminantAnalysis\n",
    "from sklearn.naive_bayes import GaussianNB\n",
    "from sklearn.naive_bayes import MultinomialNB\n",
    "from sklearn.gaussian_process import GaussianProcessClassifier"
   ]
  },
  {
   "cell_type": "code",
   "execution_count": 70,
   "metadata": {},
   "outputs": [],
   "source": [
    "def get_models():\n",
    "    models, names = list(), list()\n",
    "    models.append(LogisticRegression(solver='lbfgs'))\n",
    "    names.append('LR')\n",
    "    \n",
    "    models.append(LinearDiscriminantAnalysis())\n",
    "    names.append('LDA')\n",
    "    \n",
    "    models.append(QuadraticDiscriminantAnalysis())\n",
    "    names.append('QDA')\n",
    "    \n",
    "    models.append(GaussianNB())\n",
    "    names.append('GNB')\n",
    "    \n",
    "    models.append(MultinomialNB())\n",
    "    names.append('MNB')\n",
    "    \n",
    "    models.append(GaussianProcessClassifier())\n",
    "    names.append('GPC')\n",
    "    \n",
    "    return models, names"
   ]
  },
  {
   "cell_type": "code",
   "execution_count": 74,
   "metadata": {},
   "outputs": [
    {
     "name": "stdout",
     "output_type": "stream",
     "text": [
      "LR, 0.060463464869234575 (0.1433005845137136)\n",
      "LDA, 0.06350790304187902 (0.1542833645744821)\n",
      "QDA, 0.02707971572402724 (0.2207796948149497)\n",
      "GNB, 0.012194355509524397 (0.21214561239027543)\n",
      "MNB, -0.21094424432255293 (0.3691807472922246)\n",
      "GPC, -0.14238899805208502 (0.040617246512972056)\n"
     ]
    },
    {
     "data": {
      "image/png": "[encoded data removed]",
      "text/plain": [
       "<Figure size 432x288 with 1 Axes>"
      ]
     },
     "metadata": {},
     "output_type": "display_data"
    }
   ],
   "source": [
    "models, names = get_models()\n",
    "results = list()\n",
    "\n",
    "for i in range(len(models)):\n",
    "    scores = evaluate_model(X, y, models[i])\n",
    "    results.append(scores)\n",
    "    print(f'{names[i]}, {mean(scores)} ({std(scores)})')\n",
    "plt.boxplot(results, labels=names, showmeans=True)\n",
    "plt.show()"
   ]
  },
  {
   "cell_type": "markdown",
   "metadata": {},
   "source": [
    "LR and LDA are the best performing. MNB and GPC are not skillful since they showed negative scores."
   ]
  },
  {
   "cell_type": "markdown",
   "metadata": {},
   "source": [
    "## Model Evaluaiton with scaled inputs"
   ]
  },
  {
   "cell_type": "code",
   "execution_count": 86,
   "metadata": {},
   "outputs": [],
   "source": [
    "from sklearn.pipeline import Pipeline\n",
    "from sklearn.preprocessing import StandardScaler\n",
    "from sklearn.preprocessing import MinMaxScaler\n",
    "from sklearn.preprocessing import PowerTransformer"
   ]
  },
  {
   "cell_type": "code",
   "execution_count": 87,
   "metadata": {},
   "outputs": [
    {
     "name": "stdout",
     "output_type": "stream",
     "text": [
      "LR, 0.06183251192249042 (0.139784046641763)\n",
      "LDA, 0.06350790304187905 (0.154283364574482)\n",
      "QDA, 0.02707971572402729 (0.22077969481494977)\n",
      "GNB, 0.012194355385266047 (0.21214561258605752)\n",
      "MNB, nan (nan)\n",
      "GPC, 0.09717254660831394 (0.13311131023910283)\n"
     ]
    },
    {
     "name": "stderr",
     "output_type": "stream",
     "text": [
      "/Users/daihongchen/opt/anaconda3/envs/learn-env/lib/python3.6/site-packages/numpy/lib/function_base.py:3826: RuntimeWarning: Invalid value encountered in percentile\n",
      "  interpolation=interpolation)\n",
      "/Users/daihongchen/opt/anaconda3/envs/learn-env/lib/python3.6/site-packages/matplotlib/cbook/__init__.py:1316: RuntimeWarning: invalid value encountered in less_equal\n",
      "  wiskhi = x[x <= hival]\n",
      "/Users/daihongchen/opt/anaconda3/envs/learn-env/lib/python3.6/site-packages/matplotlib/cbook/__init__.py:1323: RuntimeWarning: invalid value encountered in greater_equal\n",
      "  wisklo = x[x >= loval]\n",
      "/Users/daihongchen/opt/anaconda3/envs/learn-env/lib/python3.6/site-packages/matplotlib/cbook/__init__.py:1331: RuntimeWarning: invalid value encountered in less\n",
      "  x[x < stats['whislo']],\n",
      "/Users/daihongchen/opt/anaconda3/envs/learn-env/lib/python3.6/site-packages/matplotlib/cbook/__init__.py:1332: RuntimeWarning: invalid value encountered in greater\n",
      "  x[x > stats['whishi']],\n"
     ]
    },
    {
     "data": {
      "image/png": "[encoded data removed]",
      "text/plain": [
       "<Figure size 432x288 with 1 Axes>"
      ]
     },
     "metadata": {},
     "output_type": "display_data"
    }
   ],
   "source": [
    "full_path = 'haberman.csv'\n",
    "\n",
    "X, y = load_dataset(full_path)\n",
    "\n",
    "models, names = get_models()\n",
    "\n",
    "results = list()\n",
    "\n",
    "for i in range(len(models)):\n",
    "    pipeline = Pipeline(steps=[('t', StandardScaler()), ('m', models[i])])\n",
    "    \n",
    "    scores = evaluate_model(X, y, pipeline)\n",
    "    results.append(scores)\n",
    "    print(f'{names[i]}, {mean(scores)} ({std(scores)})')\n",
    "plt.boxplot(results, labels=names, showmeans=True)\n",
    "plt.show()"
   ]
  },
  {
   "cell_type": "markdown",
   "metadata": {},
   "source": [
    "## Model evaluation with power transform"
   ]
  },
  {
   "cell_type": "code",
   "execution_count": 88,
   "metadata": {},
   "outputs": [],
   "source": [
    "steps = [('t', MinMaxScaler()), ('t2', PowerTransformer()), ('m', models[i])]\n",
    "pipeline = Pipeline(steps=steps)\n",
    "scores = evaluate_model(X, y, pipeline)"
   ]
  },
  {
   "cell_type": "code",
   "execution_count": 93,
   "metadata": {},
   "outputs": [
    {
     "name": "stdout",
     "output_type": "stream",
     "text": [
      "LR, 0.11024779452701076 (0.14188867714829576)\n",
      "LDA, 0.10667914363264484 (0.16411420432184382)\n",
      "GPC, 0.10030905597224503 (0.13015185800725412)\n"
     ]
    },
    {
     "data": {
      "image/png": "[encoded data removed]",
      "text/plain": [
       "<Figure size 432x288 with 1 Axes>"
      ]
     },
     "metadata": {},
     "output_type": "display_data"
    }
   ],
   "source": [
    "def get_models():\n",
    "    models, names = list(), list()\n",
    "# LR\n",
    "    models.append(LogisticRegression(solver='lbfgs'))\n",
    "    names.append('LR')\n",
    "# LDA\n",
    "    models.append(LinearDiscriminantAnalysis())\n",
    "    names.append('LDA')\n",
    "# GPC\n",
    "    models.append(GaussianProcessClassifier())\n",
    "    names.append('GPC')\n",
    "    return models, names\n",
    "\n",
    "models, names = get_models()\n",
    "\n",
    "results = list()\n",
    "for i in range(len(models)):\n",
    "    steps = [('t', MinMaxScaler()), ('t2', PowerTransformer()), ('m', models[i])]\n",
    "    pipeline = Pipeline(steps=steps)\n",
    "    scores = evaluate_model(X, y, pipeline)\n",
    "    results.append(scores)\n",
    "    print(f'{names[i]}, {mean(scores)} ({std(scores)})')\n",
    "plt.boxplot(results, labels=names, showmeans=True)\n",
    "plt.show()"
   ]
  },
  {
   "cell_type": "code",
   "execution_count": null,
   "metadata": {},
   "outputs": [],
   "source": []
  },
  {
   "cell_type": "code",
   "execution_count": null,
   "metadata": {},
   "outputs": [],
   "source": []
  }
 ],
 "metadata": {
  "kernelspec": {
   "display_name": "Python [conda env:learn-env] *",
   "language": "python",
   "name": "conda-env-learn-env-py"
  },
  "language_info": {
   "codemirror_mode": {
    "name": "ipython",
    "version": 3
   },
   "file_extension": ".py",
   "mimetype": "text/x-python",
   "name": "python",
   "nbconvert_exporter": "python",
   "pygments_lexer": "ipython3",
   "version": "3.6.9"
  }
 },
 "nbformat": 4,
 "nbformat_minor": 4
}
