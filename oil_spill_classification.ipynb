{
 "cells": [
  {
   "cell_type": "code",
   "execution_count": 3,
   "metadata": {},
   "outputs": [
    {
     "name": "stderr",
     "output_type": "stream",
     "text": [
      "/Users/daihongchen/opt/anaconda3/envs/learn-env/lib/python3.6/site-packages/statsmodels/tools/_testing.py:19: FutureWarning: pandas.util.testing is deprecated. Use the functions in the public API at pandas.testing instead.\n",
      "  import pandas.util.testing as tm\n"
     ]
    }
   ],
   "source": [
    "import pandas as pd\n",
    "import numpy as np\n",
    "import matplotlib.pyplot as plt\n",
    "from collections import Counter\n",
    "import seaborn as sns\n",
    "%matplotlib inline\n",
    "plt.style.use('ggplot')"
   ]
  },
  {
   "cell_type": "code",
   "execution_count": 4,
   "metadata": {},
   "outputs": [
    {
     "name": "stdout",
     "output_type": "stream",
     "text": [
      "--2020-09-12 04:24:34--  https://raw.githubusercontent.com/jbrownlee/Datasets/master/oil-spill.csv\n",
      "Resolving raw.githubusercontent.com... 151.101.52.133\n",
      "Connecting to raw.githubusercontent.com|151.101.52.133|:443... connected.\n",
      "HTTP request sent, awaiting response... 200 OK\n",
      "Length: 230924 (226K) [text/plain]\n",
      "Saving to: 'oil-spill.csv.1'\n",
      "\n",
      "oil-spill.csv.1     100%[===================>] 225.51K  --.-KB/s    in 0.05s   \n",
      "\n",
      "2020-09-12 04:24:35 (4.09 MB/s) - 'oil-spill.csv.1' saved [230924/230924]\n",
      "\n"
     ]
    }
   ],
   "source": [
    "!wget https://raw.githubusercontent.com/jbrownlee/Datasets/master/oil-spill.csv"
   ]
  },
  {
   "cell_type": "code",
   "execution_count": 5,
   "metadata": {},
   "outputs": [
    {
     "name": "stdout",
     "output_type": "stream",
     "text": [
      "(937, 50)\n",
      "Class = 1.0, Count = 41, Percentage = 4.376%\n",
      "Class = 0.0, Count = 896, Percentage = 95.624%\n"
     ]
    }
   ],
   "source": [
    "# load data\n",
    "filename = 'oil-spill.csv'\n",
    "df = pd.read_csv(filename, header=None)\n",
    "print(df.shape)\n",
    "# print(df.describe())\n",
    "target = df.values[:,-1]\n",
    "counter = Counter(target)\n",
    "for k, v in counter.items():\n",
    "    per = v / len(target) * 100\n",
    "    print(f'Class = {k}, Count = {v}, Percentage = {round(per, 3)}%')"
   ]
  },
  {
   "cell_type": "code",
   "execution_count": 6,
   "metadata": {},
   "outputs": [
    {
     "data": {
      "image/png": "[encoded data removed]",
      "text/plain": [
       "<Figure size 1080x864 with 56 Axes>"
      ]
     },
     "metadata": {
      "needs_background": "light"
     },
     "output_type": "display_data"
    }
   ],
   "source": [
    "# visualization\n",
    "\n",
    "ax = df.hist(figsize=(15, 12))\n",
    "for axis in ax.flatten():\n",
    "    axis.set_title('')\n",
    "    axis.set_xticklabels([])\n",
    "    axis.set_yticklabels([])\n",
    "plt.show()"
   ]
  },
  {
   "cell_type": "markdown",
   "metadata": {},
   "source": [
    "# Model Test and Baseline Result\n",
    "\n",
    "The metrics used in this project is G-Mean, geometric mean. G-Mean has the distinctive property of being independent of the distribution of examples between calsses, and is thus robust in circumstances where this distribution might change with time or be different in the trainng and testing data. \n",
    "\n",
    "G-Mean = (Sensitivity * specificity) ^^ 0.5\n",
    "\n",
    "\n",
    "sensitivity = recall = true positive / (true positive + false negative) measure of the accuracy of positive class\n",
    "\n",
    "specificity = true negative / (true negative + false positive) measure of the accuracy of negative class"
   ]
  },
  {
   "cell_type": "code",
   "execution_count": 7,
   "metadata": {},
   "outputs": [],
   "source": [
    "from collections import Counter\n",
    "from numpy import mean\n",
    "from numpy import std\n",
    "from pandas import read_csv\n",
    "from sklearn.preprocessing import LabelEncoder\n",
    "from sklearn.model_selection import cross_val_score\n",
    "from sklearn.model_selection import RepeatedStratifiedKFold\n",
    "from imblearn.metrics import geometric_mean_score\n",
    "from sklearn.metrics import make_scorer\n",
    "from sklearn.dummy import DummyClassifier"
   ]
  },
  {
   "cell_type": "code",
   "execution_count": 8,
   "metadata": {},
   "outputs": [],
   "source": [
    "## drop variable 1 that defines image ID, and column 22 which has one single number\n",
    "\n",
    "df.drop([0, 22], axis=1, inplace=True)"
   ]
  },
  {
   "cell_type": "code",
   "execution_count": 9,
   "metadata": {},
   "outputs": [],
   "source": [
    "from sklearn.preprocessing import LabelEncoder"
   ]
  },
  {
   "cell_type": "code",
   "execution_count": 10,
   "metadata": {},
   "outputs": [],
   "source": [
    "data = df.values\n",
    "X, y = data[:, :-1], data[:, -1]\n",
    "y = LabelEncoder().fit_transform(y)"
   ]
  },
  {
   "cell_type": "code",
   "execution_count": 17,
   "metadata": {},
   "outputs": [],
   "source": [
    "def evaluate_model(X, y, model):\n",
    "    cv = RepeatedStratifiedKFold(n_splits=10, n_repeats=3, random_state=1)\n",
    "    metric = make_scorer(geometric_mean_score)\n",
    "    scores = cross_val_score(model, X, y, scoring=metric, cv=cv, n_jobs=-1)\n",
    "    return scores"
   ]
  },
  {
   "cell_type": "code",
   "execution_count": 18,
   "metadata": {},
   "outputs": [],
   "source": [
    "model = DummyClassifier(strategy = 'uniform')"
   ]
  },
  {
   "cell_type": "code",
   "execution_count": 25,
   "metadata": {},
   "outputs": [
    {
     "name": "stdout",
     "output_type": "stream",
     "text": [
      "Mean G-Mean is 0.495, Std G-Mean is 0.203\n"
     ]
    }
   ],
   "source": [
    "scores = evaluate_model(X,y, model)\n",
    "print(f'Mean G-Mean is {round(mean(scores),3)}, Std G-Mean is {round(std(scores),3)}')"
   ]
  },
  {
   "cell_type": "markdown",
   "metadata": {},
   "source": [
    "The baseline model achieves a G-mean of about 0.47, close to the theoritical maximum of 0.5. This score provides a lower limit on model skill. Any model that achieves an average G-mean above about 0.47 or really above 0.5 has skill. Otherwise, no skill. t a good G-mean reported in the paper was about 0.811."
   ]
  },
  {
   "cell_type": "markdown",
   "metadata": {},
   "source": [
    " ## Selecte and evaluate models\n",
    " \n",
    " Probabilistic models are selected and evaluated on the dataset. Probabilistic models are models that are fit on the data under a probabilistic framework and often peform well in general for imbalanced classification datasets. \n",
    " \n",
    " Logistic Regression (LR)\n",
    " \n",
    " Linear Discriminant Analysis (LDA)\n",
    " \n",
    " Gaussian Naive Bayes (NB)\n",
    " \n",
    " Both LR and LDA are sensitive to scale of the inputs data. So that it is better to normalize or standardize the variables in pre-processing step. \n"
   ]
  },
  {
   "cell_type": "code",
   "execution_count": 40,
   "metadata": {},
   "outputs": [],
   "source": [
    "from numpy import mean\n",
    "from numpy import std\n",
    "from pandas import read_csv\n",
    "from matplotlib import pyplot\n",
    "from sklearn.preprocessing import LabelEncoder\n",
    "from sklearn.model_selection import cross_val_score\n",
    "from sklearn.model_selection import RepeatedStratifiedKFold\n",
    "from sklearn.metrics import make_scorer\n",
    "from sklearn.linear_model import LogisticRegression\n",
    "from sklearn.discriminant_analysis import LinearDiscriminantAnalysis\n",
    "from sklearn.naive_bayes import GaussianNB\n",
    "from imblearn.metrics import geometric_mean_score\n",
    "from sklearn.pipeline import Pipeline\n",
    "from sklearn.preprocessing import StandardScaler\n",
    "from sklearn.preprocessing import MinMaxScaler\n",
    "from sklearn.preprocessing import PowerTransformer"
   ]
  },
  {
   "cell_type": "code",
   "execution_count": 41,
   "metadata": {},
   "outputs": [],
   "source": [
    "def get_models():\n",
    "    models, names = list(), list()\n",
    "    \n",
    "    steps = [('t', StandardScaler()), ('m', LogisticRegression(solver='liblinear'))]\n",
    "    \n",
    "    models.append(Pipeline(steps=steps))\n",
    "    \n",
    "    names.append('LR')\n",
    "    \n",
    "    steps = [('t', StandardScaler()), ('m', LinearDiscriminantAnalysis())]\n",
    "    models.append(Pipeline(steps=steps))\n",
    "    names.append('LDA')\n",
    "    \n",
    "    models.append(GaussianNB())\n",
    "    names.append('NB')\n",
    "    return models, names"
   ]
  },
  {
   "cell_type": "code",
   "execution_count": 42,
   "metadata": {},
   "outputs": [
    {
     "name": "stdout",
     "output_type": "stream",
     "text": [
      "LR, 0.672, 0.203\n",
      "LDA, 0.755, 0.147\n",
      "NB, 0.707, 0.202\n"
     ]
    },
    {
     "data": {
      "image/png": "[encoded data removed]",
      "text/plain": [
       "<Figure size 432x288 with 1 Axes>"
      ]
     },
     "metadata": {
      "needs_background": "light"
     },
     "output_type": "display_data"
    }
   ],
   "source": [
    "models, names = get_models()\n",
    "\n",
    "results = list()\n",
    "for i in range(len(models)):\n",
    "    scores = evaluate_model(X, y, models[i])\n",
    "    results.append(scores)\n",
    "    print(f'{names[i]}, {round(mean(scores),3)}, {round(std(scores),3)}')\n",
    "    \n",
    "plt.boxplot(results, labels=names, showmeans=True)\n",
    "plt.show()"
   ]
  },
  {
   "cell_type": "code",
   "execution_count": 45,
   "metadata": {},
   "outputs": [],
   "source": [
    "def get_models():\n",
    "    models, names = list(), list()\n",
    "    \n",
    "    # LR  Balanced\n",
    "    models.append(LogisticRegression(solver='liblinear', class_weight='balanced'))\n",
    "    names.append('Balanced')\n",
    "    \n",
    "    # LR Normalization and Balanced\n",
    "    steps = [('t', MinMaxScaler()), ('m', LogisticRegression(solver='liblinear',\n",
    "                                                             class_weight='balanced'))]\n",
    "    models.append(Pipeline(steps=steps))\n",
    "    names.append('Balanced-Norm')\n",
    "    \n",
    "    # LR Balanced + Standardization\n",
    "    steps =[('t', StandardScaler()), ('m', LogisticRegression(solver='liblinear', class_weight='balanced'))]\n",
    "    models.append(Pipeline(steps=steps))\n",
    "    names.append('Balanced-STD')\n",
    "    \n",
    "    # LR Balanced + Power\n",
    "    steps = [('t1', MinMaxScaler()), \n",
    "             ('t2', PowerTransformer()), \n",
    "             ('m', LogisticRegression(solver='liblinear', class_weight='balanced'))]\n",
    "    models.append(Pipeline(steps=steps))\n",
    "    names.append('Balanced-Power')\n",
    "    \n",
    "    return models, names"
   ]
  },
  {
   "cell_type": "code",
   "execution_count": 46,
   "metadata": {},
   "outputs": [
    {
     "name": "stdout",
     "output_type": "stream",
     "text": [
      "Balanced, 0.835, 0.113\n",
      "Balanced-Norm, 0.836, 0.088\n",
      "Balanced-STD, 0.834, 0.129\n",
      "Balanced-Power, 0.862, 0.124\n"
     ]
    },
    {
     "data": {
      "image/png": "[encoded data removed]",
      "text/plain": [
       "<Figure size 432x288 with 1 Axes>"
      ]
     },
     "metadata": {
      "needs_background": "light"
     },
     "output_type": "display_data"
    }
   ],
   "source": [
    "models, names = get_models()\n",
    "\n",
    "results = list()\n",
    "for i in range(len(models)):\n",
    "    scores = evaluate_model(X, y, models[i])\n",
    "    results.append(scores)\n",
    "    print(f'{names[i]}, {round(mean(scores),3)}, {round(std(scores),3)}')\n",
    "\n",
    "plt.boxplot(results, labels=names, showmeans=True)\n",
    "plt.show()\n",
    "    "
   ]
  },
  {
   "cell_type": "markdown",
   "metadata": {},
   "source": [
    "The results suggested that balanced LR model with powertransform is the best performance. "
   ]
  },
  {
   "cell_type": "code",
   "execution_count": null,
   "metadata": {},
   "outputs": [],
   "source": []
  }
 ],
 "metadata": {
  "kernelspec": {
   "display_name": "Python [conda env:learn-env] *",
   "language": "python",
   "name": "conda-env-learn-env-py"
  },
  "language_info": {
   "codemirror_mode": {
    "name": "ipython",
    "version": 3
   },
   "file_extension": ".py",
   "mimetype": "text/x-python",
   "name": "python",
   "nbconvert_exporter": "python",
   "pygments_lexer": "ipython3",
   "version": "3.6.9"
  }
 },
 "nbformat": 4,
 "nbformat_minor": 4
}
